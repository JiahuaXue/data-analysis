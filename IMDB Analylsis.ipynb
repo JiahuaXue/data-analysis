{
 "cells": [
  {
   "cell_type": "code",
   "execution_count": 1,
   "id": "ee5f8d30-716a-4c8a-9813-2316eceab791",
   "metadata": {},
   "outputs": [],
   "source": [
    "# Set environment variables for proxy\n",
    "import os\n",
    "\n",
    "os.environ['http_proxy'] = 'http://127.0.0.1:7890'\n",
    "os.environ['https_proxy'] = 'http://127.0.0.1:7890'\n",
    "os.environ['all_proxy'] = 'socks5://127.0.0.1:7890'"
   ]
  },
  {
   "cell_type": "code",
   "execution_count": 2,
   "id": "22aec82d-7ff8-4e78-8471-41338eb97ad6",
   "metadata": {},
   "outputs": [],
   "source": [
    "#Set environment variables for my notebook\n",
    "os.environ['GOOGLE_APPLICATION_CREDENTIALS'] = r\"C:\\Users\\HP\\Desktop\\BestTop项目\\PTA项目\\IMDB Analysis\\august-clover-452613-h1-3236960c7686.json\""
   ]
  },
  {
   "cell_type": "code",
   "execution_count": 3,
   "id": "adbcec4a-fa3e-4a3f-80f2-215e7e25207f",
   "metadata": {},
   "outputs": [],
   "source": [
    "from google.cloud import bigquery\n",
    "\n",
    "service_account_path = r\"C:\\Users\\HP\\Desktop\\BestTop项目\\PTA项目\\IMDB Analysis\\august-clover-452613-h1-3236960c7686.json\"\n",
    "\n",
    "# Create a BigQuery client\n",
    "client = bigquery.Client.from_service_account_json(service_account_path)"
   ]
  },
  {
   "cell_type": "code",
   "execution_count": 4,
   "id": "3719743d-8ca3-407f-a9a6-ccb0ea268e52",
   "metadata": {},
   "outputs": [],
   "source": [
    "%load_ext bigquery_magics"
   ]
  },
  {
   "cell_type": "code",
   "execution_count": 5,
   "id": "e11d3cfe-c15c-4722-93f2-fe85ca15ef1d",
   "metadata": {},
   "outputs": [
    {
     "data": {
      "application/vnd.jupyter.widget-view+json": {
       "model_id": "0d9d64d49ca84a428084fc78fd668d76",
       "version_major": 2,
       "version_minor": 0
      },
      "text/plain": [
       "Query is running:   0%|          |"
      ]
     },
     "metadata": {},
     "output_type": "display_data"
    },
    {
     "data": {
      "application/vnd.jupyter.widget-view+json": {
       "model_id": "e635d56ee69d4700bd2017ece6cd90ae",
       "version_major": 2,
       "version_minor": 0
      },
      "text/plain": [
       "Downloading:   0%|          |"
      ]
     },
     "metadata": {},
     "output_type": "display_data"
    }
   ],
   "source": [
    "%%bigquery df\n",
    "SELECT * \n",
    "FROM `bigquery-public-data.imdb.title_basics`\n",
    "LIMIT 100"
   ]
  },
  {
   "cell_type": "code",
   "execution_count": 11,
   "id": "d1b7b20d-3711-41ec-b4b5-37b590f2eb72",
   "metadata": {},
   "outputs": [
    {
     "data": {
      "text/html": [
       "<div>\n",
       "<style scoped>\n",
       "    .dataframe tbody tr th:only-of-type {\n",
       "        vertical-align: middle;\n",
       "    }\n",
       "\n",
       "    .dataframe tbody tr th {\n",
       "        vertical-align: top;\n",
       "    }\n",
       "\n",
       "    .dataframe thead th {\n",
       "        text-align: right;\n",
       "    }\n",
       "</style>\n",
       "<table border=\"1\" class=\"dataframe\">\n",
       "  <thead>\n",
       "    <tr style=\"text-align: right;\">\n",
       "      <th></th>\n",
       "      <th>tconst</th>\n",
       "      <th>title_type</th>\n",
       "      <th>primary_title</th>\n",
       "      <th>original_title</th>\n",
       "      <th>is_adult</th>\n",
       "      <th>start_year</th>\n",
       "      <th>end_year</th>\n",
       "      <th>runtime_minutes</th>\n",
       "      <th>genres</th>\n",
       "    </tr>\n",
       "  </thead>\n",
       "  <tbody>\n",
       "    <tr>\n",
       "      <th>0</th>\n",
       "      <td>tt10967190</td>\n",
       "      <td>tvEpisode</td>\n",
       "      <td>Episode #1.122</td>\n",
       "      <td>Episode #1.122</td>\n",
       "      <td>0</td>\n",
       "      <td>&lt;NA&gt;</td>\n",
       "      <td>&lt;NA&gt;</td>\n",
       "      <td>&lt;NA&gt;</td>\n",
       "      <td>None</td>\n",
       "    </tr>\n",
       "    <tr>\n",
       "      <th>1</th>\n",
       "      <td>tt17163140</td>\n",
       "      <td>tvEpisode</td>\n",
       "      <td>Episode #1.118</td>\n",
       "      <td>Episode #1.118</td>\n",
       "      <td>0</td>\n",
       "      <td>&lt;NA&gt;</td>\n",
       "      <td>&lt;NA&gt;</td>\n",
       "      <td>&lt;NA&gt;</td>\n",
       "      <td>None</td>\n",
       "    </tr>\n",
       "    <tr>\n",
       "      <th>2</th>\n",
       "      <td>tt6826542</td>\n",
       "      <td>tvEpisode</td>\n",
       "      <td>Episode #1.1389</td>\n",
       "      <td>Episode #1.1389</td>\n",
       "      <td>0</td>\n",
       "      <td>&lt;NA&gt;</td>\n",
       "      <td>&lt;NA&gt;</td>\n",
       "      <td>&lt;NA&gt;</td>\n",
       "      <td>None</td>\n",
       "    </tr>\n",
       "    <tr>\n",
       "      <th>3</th>\n",
       "      <td>tt6829852</td>\n",
       "      <td>tvEpisode</td>\n",
       "      <td>Episode #1.1504</td>\n",
       "      <td>Episode #1.1504</td>\n",
       "      <td>0</td>\n",
       "      <td>&lt;NA&gt;</td>\n",
       "      <td>&lt;NA&gt;</td>\n",
       "      <td>&lt;NA&gt;</td>\n",
       "      <td>None</td>\n",
       "    </tr>\n",
       "    <tr>\n",
       "      <th>4</th>\n",
       "      <td>tt6867904</td>\n",
       "      <td>tvEpisode</td>\n",
       "      <td>Episode #1.598</td>\n",
       "      <td>Episode #1.598</td>\n",
       "      <td>0</td>\n",
       "      <td>&lt;NA&gt;</td>\n",
       "      <td>&lt;NA&gt;</td>\n",
       "      <td>&lt;NA&gt;</td>\n",
       "      <td>None</td>\n",
       "    </tr>\n",
       "  </tbody>\n",
       "</table>\n",
       "</div>"
      ],
      "text/plain": [
       "       tconst title_type    primary_title   original_title  is_adult  \\\n",
       "0  tt10967190  tvEpisode   Episode #1.122   Episode #1.122         0   \n",
       "1  tt17163140  tvEpisode   Episode #1.118   Episode #1.118         0   \n",
       "2   tt6826542  tvEpisode  Episode #1.1389  Episode #1.1389         0   \n",
       "3   tt6829852  tvEpisode  Episode #1.1504  Episode #1.1504         0   \n",
       "4   tt6867904  tvEpisode   Episode #1.598   Episode #1.598         0   \n",
       "\n",
       "   start_year  end_year  runtime_minutes genres  \n",
       "0        <NA>      <NA>             <NA>   None  \n",
       "1        <NA>      <NA>             <NA>   None  \n",
       "2        <NA>      <NA>             <NA>   None  \n",
       "3        <NA>      <NA>             <NA>   None  \n",
       "4        <NA>      <NA>             <NA>   None  "
      ]
     },
     "execution_count": 11,
     "metadata": {},
     "output_type": "execute_result"
    }
   ],
   "source": [
    "df.head()"
   ]
  },
  {
   "cell_type": "code",
   "execution_count": 13,
   "id": "4b92f748-d23a-4807-8662-a5164ab6b7da",
   "metadata": {},
   "outputs": [
    {
     "name": "stdout",
     "output_type": "stream",
     "text": [
      "C:\\Users\\HP\\data-analysis\\data-analysis\n"
     ]
    }
   ],
   "source": [
    "print(os.getcwd()) "
   ]
  },
  {
   "cell_type": "code",
   "execution_count": null,
   "id": "e78dc88f-c8ae-4416-9f77-d961cbcfbd86",
   "metadata": {},
   "outputs": [],
   "source": []
  }
 ],
 "metadata": {
  "kernelspec": {
   "display_name": "Python [conda env:base] *",
   "language": "python",
   "name": "conda-base-py"
  },
  "language_info": {
   "codemirror_mode": {
    "name": "ipython",
    "version": 3
   },
   "file_extension": ".py",
   "mimetype": "text/x-python",
   "name": "python",
   "nbconvert_exporter": "python",
   "pygments_lexer": "ipython3",
   "version": "3.12.3"
  }
 },
 "nbformat": 4,
 "nbformat_minor": 5
}
