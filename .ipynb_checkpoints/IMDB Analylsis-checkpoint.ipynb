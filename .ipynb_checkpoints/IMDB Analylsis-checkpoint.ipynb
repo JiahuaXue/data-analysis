{
 "cells": [
  {
   "cell_type": "code",
   "execution_count": 1,
   "id": "22aec82d-7ff8-4e78-8471-41338eb97ad6",
   "metadata": {},
   "outputs": [],
   "source": [
    "#Set environment variables for your notebook\n",
    "import os \n",
    "os.environ['GOOGLE_APPLICATION_CREDENTIALS'] = r\"C:\\Users\\HP\\Desktop\\BestTop项目\\PTA项目\\IMDB Analysis\\august-clover-452613-h1-3236960c7686.json\""
   ]
  },
  {
   "cell_type": "code",
   "execution_count": 2,
   "id": "adbcec4a-fa3e-4a3f-80f2-215e7e25207f",
   "metadata": {},
   "outputs": [],
   "source": [
    "from google.cloud import bigquery\n",
    "\n",
    "service_account_path = r\"C:\\Users\\HP\\Desktop\\BestTop项目\\PTA项目\\IMDB Analysis\\august-clover-452613-h1-3236960c7686.json\"\n",
    "\n",
    "# Create a BigQuery client\n",
    "client = bigquery.Client.from_service_account_json(service_account_path)"
   ]
  },
  {
   "cell_type": "code",
   "execution_count": 3,
   "id": "e11d3cfe-c15c-4722-93f2-fe85ca15ef1d",
   "metadata": {},
   "outputs": [
    {
     "ename": "RetryError",
     "evalue": "Timeout of 600.0s exceeded, last exception: 503 failed to connect to all addresses; last error: UNKNOWN: ipv4:142.250.66.74:443: socket is null",
     "output_type": "error",
     "traceback": [
      "\u001b[1;31m---------------------------------------------------------------------------\u001b[0m",
      "\u001b[1;31m_InactiveRpcError\u001b[0m                         Traceback (most recent call last)",
      "File \u001b[1;32mC:\\ProgramData\\anaconda3\\Lib\\site-packages\\google\\api_core\\grpc_helpers.py:76\u001b[0m, in \u001b[0;36m_wrap_unary_errors.<locals>.error_remapped_callable\u001b[1;34m(*args, **kwargs)\u001b[0m\n\u001b[0;32m     75\u001b[0m \u001b[38;5;28;01mtry\u001b[39;00m:\n\u001b[1;32m---> 76\u001b[0m     \u001b[38;5;28;01mreturn\u001b[39;00m callable_(\u001b[38;5;241m*\u001b[39margs, \u001b[38;5;241m*\u001b[39m\u001b[38;5;241m*\u001b[39mkwargs)\n\u001b[0;32m     77\u001b[0m \u001b[38;5;28;01mexcept\u001b[39;00m grpc\u001b[38;5;241m.\u001b[39mRpcError \u001b[38;5;28;01mas\u001b[39;00m exc:\n",
      "File \u001b[1;32mC:\\ProgramData\\anaconda3\\Lib\\site-packages\\grpc\\_channel.py:1176\u001b[0m, in \u001b[0;36m_UnaryUnaryMultiCallable.__call__\u001b[1;34m(self, request, timeout, metadata, credentials, wait_for_ready, compression)\u001b[0m\n\u001b[0;32m   1170\u001b[0m (\n\u001b[0;32m   1171\u001b[0m     state,\n\u001b[0;32m   1172\u001b[0m     call,\n\u001b[0;32m   1173\u001b[0m ) \u001b[38;5;241m=\u001b[39m \u001b[38;5;28mself\u001b[39m\u001b[38;5;241m.\u001b[39m_blocking(\n\u001b[0;32m   1174\u001b[0m     request, timeout, metadata, credentials, wait_for_ready, compression\n\u001b[0;32m   1175\u001b[0m )\n\u001b[1;32m-> 1176\u001b[0m \u001b[38;5;28;01mreturn\u001b[39;00m _end_unary_response_blocking(state, call, \u001b[38;5;28;01mFalse\u001b[39;00m, \u001b[38;5;28;01mNone\u001b[39;00m)\n",
      "File \u001b[1;32mC:\\ProgramData\\anaconda3\\Lib\\site-packages\\grpc\\_channel.py:1005\u001b[0m, in \u001b[0;36m_end_unary_response_blocking\u001b[1;34m(state, call, with_call, deadline)\u001b[0m\n\u001b[0;32m   1004\u001b[0m \u001b[38;5;28;01melse\u001b[39;00m:\n\u001b[1;32m-> 1005\u001b[0m     \u001b[38;5;28;01mraise\u001b[39;00m _InactiveRpcError(state)\n",
      "\u001b[1;31m_InactiveRpcError\u001b[0m: <_InactiveRpcError of RPC that terminated with:\n\tstatus = StatusCode.UNAVAILABLE\n\tdetails = \"failed to connect to all addresses; last error: UNKNOWN: ipv4:142.250.66.74:443: socket is null\"\n\tdebug_error_string = \"UNKNOWN:Error received from peer  {grpc_message:\"failed to connect to all addresses; last error: UNKNOWN: ipv4:142.250.66.74:443: socket is null\", grpc_status:14, created_time:\"2025-03-16T02:28:36.1187123+00:00\"}\"\n>",
      "\nThe above exception was the direct cause of the following exception:\n",
      "\u001b[1;31mServiceUnavailable\u001b[0m                        Traceback (most recent call last)",
      "File \u001b[1;32mC:\\ProgramData\\anaconda3\\Lib\\site-packages\\google\\api_core\\retry\\retry_unary.py:144\u001b[0m, in \u001b[0;36mretry_target\u001b[1;34m(target, predicate, sleep_generator, timeout, on_error, exception_factory, **kwargs)\u001b[0m\n\u001b[0;32m    143\u001b[0m \u001b[38;5;28;01mtry\u001b[39;00m:\n\u001b[1;32m--> 144\u001b[0m     result \u001b[38;5;241m=\u001b[39m target()\n\u001b[0;32m    145\u001b[0m     \u001b[38;5;28;01mif\u001b[39;00m inspect\u001b[38;5;241m.\u001b[39misawaitable(result):\n",
      "File \u001b[1;32mC:\\ProgramData\\anaconda3\\Lib\\site-packages\\google\\api_core\\timeout.py:120\u001b[0m, in \u001b[0;36mTimeToDeadlineTimeout.__call__.<locals>.func_with_timeout\u001b[1;34m(*args, **kwargs)\u001b[0m\n\u001b[0;32m    118\u001b[0m     kwargs[\u001b[38;5;124m\"\u001b[39m\u001b[38;5;124mtimeout\u001b[39m\u001b[38;5;124m\"\u001b[39m] \u001b[38;5;241m=\u001b[39m \u001b[38;5;28mmax\u001b[39m(\u001b[38;5;241m0\u001b[39m, \u001b[38;5;28mself\u001b[39m\u001b[38;5;241m.\u001b[39m_timeout \u001b[38;5;241m-\u001b[39m time_since_first_attempt)\n\u001b[1;32m--> 120\u001b[0m \u001b[38;5;28;01mreturn\u001b[39;00m func(\u001b[38;5;241m*\u001b[39margs, \u001b[38;5;241m*\u001b[39m\u001b[38;5;241m*\u001b[39mkwargs)\n",
      "File \u001b[1;32mC:\\ProgramData\\anaconda3\\Lib\\site-packages\\google\\api_core\\grpc_helpers.py:78\u001b[0m, in \u001b[0;36m_wrap_unary_errors.<locals>.error_remapped_callable\u001b[1;34m(*args, **kwargs)\u001b[0m\n\u001b[0;32m     77\u001b[0m \u001b[38;5;28;01mexcept\u001b[39;00m grpc\u001b[38;5;241m.\u001b[39mRpcError \u001b[38;5;28;01mas\u001b[39;00m exc:\n\u001b[1;32m---> 78\u001b[0m     \u001b[38;5;28;01mraise\u001b[39;00m exceptions\u001b[38;5;241m.\u001b[39mfrom_grpc_error(exc) \u001b[38;5;28;01mfrom\u001b[39;00m \u001b[38;5;21;01mexc\u001b[39;00m\n",
      "\u001b[1;31mServiceUnavailable\u001b[0m: 503 failed to connect to all addresses; last error: UNKNOWN: ipv4:142.250.66.74:443: socket is null",
      "\nThe above exception was the direct cause of the following exception:\n",
      "\u001b[1;31mRetryError\u001b[0m                                Traceback (most recent call last)",
      "Cell \u001b[1;32mIn[3], line 8\u001b[0m\n\u001b[0;32m      1\u001b[0m query \u001b[38;5;241m=\u001b[39m \u001b[38;5;124m\"\"\"\u001b[39m\n\u001b[0;32m      2\u001b[0m \u001b[38;5;124mSELECT * \u001b[39m\n\u001b[0;32m      3\u001b[0m \u001b[38;5;124mFROM `bigquery-public-data.imdb.title_basics`\u001b[39m\n\u001b[0;32m      4\u001b[0m \u001b[38;5;124mLIMIT 100\u001b[39m\n\u001b[0;32m      5\u001b[0m \u001b[38;5;124m\"\"\"\u001b[39m\n\u001b[0;32m      7\u001b[0m \u001b[38;5;66;03m# Execute query and return results as a Pandas DataFrame\u001b[39;00m\n\u001b[1;32m----> 8\u001b[0m df \u001b[38;5;241m=\u001b[39m client\u001b[38;5;241m.\u001b[39mquery(query)\u001b[38;5;241m.\u001b[39mto_dataframe()\n\u001b[0;32m      9\u001b[0m \u001b[38;5;66;03m# Display DataFrame\u001b[39;00m\n\u001b[0;32m     10\u001b[0m \u001b[38;5;28mprint\u001b[39m(df\u001b[38;5;241m.\u001b[39mhead())\n",
      "File \u001b[1;32mC:\\ProgramData\\anaconda3\\Lib\\site-packages\\google\\cloud\\bigquery\\job\\query.py:2058\u001b[0m, in \u001b[0;36mQueryJob.to_dataframe\u001b[1;34m(self, bqstorage_client, dtypes, progress_bar_type, create_bqstorage_client, max_results, geography_as_object, bool_dtype, int_dtype, float_dtype, string_dtype, date_dtype, datetime_dtype, time_dtype, timestamp_dtype, range_date_dtype, range_datetime_dtype, range_timestamp_dtype)\u001b[0m\n\u001b[0;32m   1851\u001b[0m \u001b[38;5;250m\u001b[39m\u001b[38;5;124;03m\"\"\"Return a pandas DataFrame from a QueryJob\u001b[39;00m\n\u001b[0;32m   1852\u001b[0m \n\u001b[0;32m   1853\u001b[0m \u001b[38;5;124;03mArgs:\u001b[39;00m\n\u001b[1;32m   (...)\u001b[0m\n\u001b[0;32m   2055\u001b[0m \u001b[38;5;124;03m        :mod:`shapely` library cannot be imported.\u001b[39;00m\n\u001b[0;32m   2056\u001b[0m \u001b[38;5;124;03m\"\"\"\u001b[39;00m\n\u001b[0;32m   2057\u001b[0m query_result \u001b[38;5;241m=\u001b[39m wait_for_query(\u001b[38;5;28mself\u001b[39m, progress_bar_type, max_results\u001b[38;5;241m=\u001b[39mmax_results)\n\u001b[1;32m-> 2058\u001b[0m \u001b[38;5;28;01mreturn\u001b[39;00m query_result\u001b[38;5;241m.\u001b[39mto_dataframe(\n\u001b[0;32m   2059\u001b[0m     bqstorage_client\u001b[38;5;241m=\u001b[39mbqstorage_client,\n\u001b[0;32m   2060\u001b[0m     dtypes\u001b[38;5;241m=\u001b[39mdtypes,\n\u001b[0;32m   2061\u001b[0m     progress_bar_type\u001b[38;5;241m=\u001b[39mprogress_bar_type,\n\u001b[0;32m   2062\u001b[0m     create_bqstorage_client\u001b[38;5;241m=\u001b[39mcreate_bqstorage_client,\n\u001b[0;32m   2063\u001b[0m     geography_as_object\u001b[38;5;241m=\u001b[39mgeography_as_object,\n\u001b[0;32m   2064\u001b[0m     bool_dtype\u001b[38;5;241m=\u001b[39mbool_dtype,\n\u001b[0;32m   2065\u001b[0m     int_dtype\u001b[38;5;241m=\u001b[39mint_dtype,\n\u001b[0;32m   2066\u001b[0m     float_dtype\u001b[38;5;241m=\u001b[39mfloat_dtype,\n\u001b[0;32m   2067\u001b[0m     string_dtype\u001b[38;5;241m=\u001b[39mstring_dtype,\n\u001b[0;32m   2068\u001b[0m     date_dtype\u001b[38;5;241m=\u001b[39mdate_dtype,\n\u001b[0;32m   2069\u001b[0m     datetime_dtype\u001b[38;5;241m=\u001b[39mdatetime_dtype,\n\u001b[0;32m   2070\u001b[0m     time_dtype\u001b[38;5;241m=\u001b[39mtime_dtype,\n\u001b[0;32m   2071\u001b[0m     timestamp_dtype\u001b[38;5;241m=\u001b[39mtimestamp_dtype,\n\u001b[0;32m   2072\u001b[0m     range_date_dtype\u001b[38;5;241m=\u001b[39mrange_date_dtype,\n\u001b[0;32m   2073\u001b[0m     range_datetime_dtype\u001b[38;5;241m=\u001b[39mrange_datetime_dtype,\n\u001b[0;32m   2074\u001b[0m     range_timestamp_dtype\u001b[38;5;241m=\u001b[39mrange_timestamp_dtype,\n\u001b[0;32m   2075\u001b[0m )\n",
      "File \u001b[1;32mC:\\ProgramData\\anaconda3\\Lib\\site-packages\\google\\cloud\\bigquery\\table.py:2588\u001b[0m, in \u001b[0;36mRowIterator.to_dataframe\u001b[1;34m(self, bqstorage_client, dtypes, progress_bar_type, create_bqstorage_client, geography_as_object, bool_dtype, int_dtype, float_dtype, string_dtype, date_dtype, datetime_dtype, time_dtype, timestamp_dtype, range_date_dtype, range_datetime_dtype, range_timestamp_dtype)\u001b[0m\n\u001b[0;32m   2585\u001b[0m     create_bqstorage_client \u001b[38;5;241m=\u001b[39m \u001b[38;5;28;01mFalse\u001b[39;00m\n\u001b[0;32m   2586\u001b[0m     bqstorage_client \u001b[38;5;241m=\u001b[39m \u001b[38;5;28;01mNone\u001b[39;00m\n\u001b[1;32m-> 2588\u001b[0m record_batch \u001b[38;5;241m=\u001b[39m \u001b[38;5;28mself\u001b[39m\u001b[38;5;241m.\u001b[39mto_arrow(\n\u001b[0;32m   2589\u001b[0m     progress_bar_type\u001b[38;5;241m=\u001b[39mprogress_bar_type,\n\u001b[0;32m   2590\u001b[0m     bqstorage_client\u001b[38;5;241m=\u001b[39mbqstorage_client,\n\u001b[0;32m   2591\u001b[0m     create_bqstorage_client\u001b[38;5;241m=\u001b[39mcreate_bqstorage_client,\n\u001b[0;32m   2592\u001b[0m )\n\u001b[0;32m   2594\u001b[0m \u001b[38;5;66;03m# Default date dtype is `db_dtypes.DateDtype()` that could cause out of bounds error,\u001b[39;00m\n\u001b[0;32m   2595\u001b[0m \u001b[38;5;66;03m# when pyarrow converts date values to nanosecond precision. To avoid the error, we\u001b[39;00m\n\u001b[0;32m   2596\u001b[0m \u001b[38;5;66;03m# set the date_as_object parameter to True, if necessary.\u001b[39;00m\n\u001b[0;32m   2597\u001b[0m date_as_object \u001b[38;5;241m=\u001b[39m \u001b[38;5;28;01mFalse\u001b[39;00m\n",
      "File \u001b[1;32mC:\\ProgramData\\anaconda3\\Lib\\site-packages\\google\\cloud\\bigquery\\table.py:2137\u001b[0m, in \u001b[0;36mRowIterator.to_arrow\u001b[1;34m(self, progress_bar_type, bqstorage_client, create_bqstorage_client)\u001b[0m\n\u001b[0;32m   2132\u001b[0m progress_bar \u001b[38;5;241m=\u001b[39m get_progress_bar(\n\u001b[0;32m   2133\u001b[0m     progress_bar_type, \u001b[38;5;124m\"\u001b[39m\u001b[38;5;124mDownloading\u001b[39m\u001b[38;5;124m\"\u001b[39m, \u001b[38;5;28mself\u001b[39m\u001b[38;5;241m.\u001b[39mtotal_rows, \u001b[38;5;124m\"\u001b[39m\u001b[38;5;124mrows\u001b[39m\u001b[38;5;124m\"\u001b[39m\n\u001b[0;32m   2134\u001b[0m )\n\u001b[0;32m   2136\u001b[0m record_batches \u001b[38;5;241m=\u001b[39m []\n\u001b[1;32m-> 2137\u001b[0m \u001b[38;5;28;01mfor\u001b[39;00m record_batch \u001b[38;5;129;01min\u001b[39;00m \u001b[38;5;28mself\u001b[39m\u001b[38;5;241m.\u001b[39mto_arrow_iterable(\n\u001b[0;32m   2138\u001b[0m     bqstorage_client\u001b[38;5;241m=\u001b[39mbqstorage_client\n\u001b[0;32m   2139\u001b[0m ):\n\u001b[0;32m   2140\u001b[0m     record_batches\u001b[38;5;241m.\u001b[39mappend(record_batch)\n\u001b[0;32m   2142\u001b[0m     \u001b[38;5;28;01mif\u001b[39;00m progress_bar \u001b[38;5;129;01mis\u001b[39;00m \u001b[38;5;129;01mnot\u001b[39;00m \u001b[38;5;28;01mNone\u001b[39;00m:\n\u001b[0;32m   2143\u001b[0m         \u001b[38;5;66;03m# In some cases, the number of total rows is not populated\u001b[39;00m\n\u001b[0;32m   2144\u001b[0m         \u001b[38;5;66;03m# until the first page of rows is fetched. Update the\u001b[39;00m\n\u001b[0;32m   2145\u001b[0m         \u001b[38;5;66;03m# progress bar's total to keep an accurate count.\u001b[39;00m\n",
      "File \u001b[1;32mC:\\ProgramData\\anaconda3\\Lib\\site-packages\\google\\cloud\\bigquery\\table.py:1982\u001b[0m, in \u001b[0;36mRowIterator._to_page_iterable\u001b[1;34m(self, bqstorage_download, tabledata_list_download, bqstorage_client)\u001b[0m\n\u001b[0;32m   1975\u001b[0m     bqstorage_client \u001b[38;5;241m=\u001b[39m \u001b[38;5;28;01mNone\u001b[39;00m\n\u001b[0;32m   1977\u001b[0m result_pages \u001b[38;5;241m=\u001b[39m (\n\u001b[0;32m   1978\u001b[0m     bqstorage_download()\n\u001b[0;32m   1979\u001b[0m     \u001b[38;5;28;01mif\u001b[39;00m bqstorage_client \u001b[38;5;129;01mis\u001b[39;00m \u001b[38;5;129;01mnot\u001b[39;00m \u001b[38;5;28;01mNone\u001b[39;00m\n\u001b[0;32m   1980\u001b[0m     \u001b[38;5;28;01melse\u001b[39;00m tabledata_list_download()\n\u001b[0;32m   1981\u001b[0m )\n\u001b[1;32m-> 1982\u001b[0m \u001b[38;5;28;01myield from\u001b[39;00m result_pages\n",
      "File \u001b[1;32mC:\\ProgramData\\anaconda3\\Lib\\site-packages\\google\\cloud\\bigquery\\_pandas_helpers.py:961\u001b[0m, in \u001b[0;36m_download_table_bqstorage\u001b[1;34m(project_id, table, bqstorage_client, preserve_order, selected_fields, page_to_item, max_queue_size, max_stream_count, download_state)\u001b[0m\n\u001b[0;32m    955\u001b[0m \u001b[38;5;28;01mif\u001b[39;00m _ARROW_COMPRESSION_SUPPORT:\n\u001b[0;32m    956\u001b[0m     requested_session\u001b[38;5;241m.\u001b[39mread_options\u001b[38;5;241m.\u001b[39marrow_serialization_options\u001b[38;5;241m.\u001b[39mbuffer_compression \u001b[38;5;241m=\u001b[39m (\n\u001b[0;32m    957\u001b[0m         \u001b[38;5;66;03m# CompressionCodec(1) -> LZ4_FRAME\u001b[39;00m\n\u001b[0;32m    958\u001b[0m         ArrowSerializationOptions\u001b[38;5;241m.\u001b[39mCompressionCodec(\u001b[38;5;241m1\u001b[39m)\n\u001b[0;32m    959\u001b[0m     )\n\u001b[1;32m--> 961\u001b[0m session \u001b[38;5;241m=\u001b[39m bqstorage_client\u001b[38;5;241m.\u001b[39mcreate_read_session(\n\u001b[0;32m    962\u001b[0m     parent\u001b[38;5;241m=\u001b[39m\u001b[38;5;124m\"\u001b[39m\u001b[38;5;124mprojects/\u001b[39m\u001b[38;5;132;01m{}\u001b[39;00m\u001b[38;5;124m\"\u001b[39m\u001b[38;5;241m.\u001b[39mformat(project_id),\n\u001b[0;32m    963\u001b[0m     read_session\u001b[38;5;241m=\u001b[39mrequested_session,\n\u001b[0;32m    964\u001b[0m     max_stream_count\u001b[38;5;241m=\u001b[39mrequested_streams,\n\u001b[0;32m    965\u001b[0m )\n\u001b[0;32m    967\u001b[0m _LOGGER\u001b[38;5;241m.\u001b[39mdebug(\n\u001b[0;32m    968\u001b[0m     \u001b[38;5;124m\"\u001b[39m\u001b[38;5;124mStarted reading table \u001b[39m\u001b[38;5;124m'\u001b[39m\u001b[38;5;132;01m{}\u001b[39;00m\u001b[38;5;124m.\u001b[39m\u001b[38;5;132;01m{}\u001b[39;00m\u001b[38;5;124m.\u001b[39m\u001b[38;5;132;01m{}\u001b[39;00m\u001b[38;5;124m'\u001b[39m\u001b[38;5;124m with BQ Storage API session \u001b[39m\u001b[38;5;124m'\u001b[39m\u001b[38;5;132;01m{}\u001b[39;00m\u001b[38;5;124m'\u001b[39m\u001b[38;5;124m.\u001b[39m\u001b[38;5;124m\"\u001b[39m\u001b[38;5;241m.\u001b[39mformat(\n\u001b[0;32m    969\u001b[0m         table\u001b[38;5;241m.\u001b[39mproject, table\u001b[38;5;241m.\u001b[39mdataset_id, table\u001b[38;5;241m.\u001b[39mtable_id, session\u001b[38;5;241m.\u001b[39mname\n\u001b[0;32m    970\u001b[0m     )\n\u001b[0;32m    971\u001b[0m )\n\u001b[0;32m    973\u001b[0m \u001b[38;5;66;03m# Avoid reading rows from an empty table.\u001b[39;00m\n",
      "File \u001b[1;32mC:\\ProgramData\\anaconda3\\Lib\\site-packages\\google\\cloud\\bigquery_storage_v1\\services\\big_query_read\\client.py:867\u001b[0m, in \u001b[0;36mBigQueryReadClient.create_read_session\u001b[1;34m(self, request, parent, read_session, max_stream_count, retry, timeout, metadata)\u001b[0m\n\u001b[0;32m    864\u001b[0m \u001b[38;5;28mself\u001b[39m\u001b[38;5;241m.\u001b[39m_validate_universe_domain()\n\u001b[0;32m    866\u001b[0m \u001b[38;5;66;03m# Send the request.\u001b[39;00m\n\u001b[1;32m--> 867\u001b[0m response \u001b[38;5;241m=\u001b[39m rpc(\n\u001b[0;32m    868\u001b[0m     request,\n\u001b[0;32m    869\u001b[0m     retry\u001b[38;5;241m=\u001b[39mretry,\n\u001b[0;32m    870\u001b[0m     timeout\u001b[38;5;241m=\u001b[39mtimeout,\n\u001b[0;32m    871\u001b[0m     metadata\u001b[38;5;241m=\u001b[39mmetadata,\n\u001b[0;32m    872\u001b[0m )\n\u001b[0;32m    874\u001b[0m \u001b[38;5;66;03m# Done; return the response.\u001b[39;00m\n\u001b[0;32m    875\u001b[0m \u001b[38;5;28;01mreturn\u001b[39;00m response\n",
      "File \u001b[1;32mC:\\ProgramData\\anaconda3\\Lib\\site-packages\\google\\api_core\\gapic_v1\\method.py:131\u001b[0m, in \u001b[0;36m_GapicCallable.__call__\u001b[1;34m(self, timeout, retry, compression, *args, **kwargs)\u001b[0m\n\u001b[0;32m    128\u001b[0m \u001b[38;5;28;01mif\u001b[39;00m \u001b[38;5;28mself\u001b[39m\u001b[38;5;241m.\u001b[39m_compression \u001b[38;5;129;01mis\u001b[39;00m \u001b[38;5;129;01mnot\u001b[39;00m \u001b[38;5;28;01mNone\u001b[39;00m:\n\u001b[0;32m    129\u001b[0m     kwargs[\u001b[38;5;124m\"\u001b[39m\u001b[38;5;124mcompression\u001b[39m\u001b[38;5;124m\"\u001b[39m] \u001b[38;5;241m=\u001b[39m compression\n\u001b[1;32m--> 131\u001b[0m \u001b[38;5;28;01mreturn\u001b[39;00m wrapped_func(\u001b[38;5;241m*\u001b[39margs, \u001b[38;5;241m*\u001b[39m\u001b[38;5;241m*\u001b[39mkwargs)\n",
      "File \u001b[1;32mC:\\ProgramData\\anaconda3\\Lib\\site-packages\\google\\api_core\\retry\\retry_unary.py:293\u001b[0m, in \u001b[0;36mRetry.__call__.<locals>.retry_wrapped_func\u001b[1;34m(*args, **kwargs)\u001b[0m\n\u001b[0;32m    289\u001b[0m target \u001b[38;5;241m=\u001b[39m functools\u001b[38;5;241m.\u001b[39mpartial(func, \u001b[38;5;241m*\u001b[39margs, \u001b[38;5;241m*\u001b[39m\u001b[38;5;241m*\u001b[39mkwargs)\n\u001b[0;32m    290\u001b[0m sleep_generator \u001b[38;5;241m=\u001b[39m exponential_sleep_generator(\n\u001b[0;32m    291\u001b[0m     \u001b[38;5;28mself\u001b[39m\u001b[38;5;241m.\u001b[39m_initial, \u001b[38;5;28mself\u001b[39m\u001b[38;5;241m.\u001b[39m_maximum, multiplier\u001b[38;5;241m=\u001b[39m\u001b[38;5;28mself\u001b[39m\u001b[38;5;241m.\u001b[39m_multiplier\n\u001b[0;32m    292\u001b[0m )\n\u001b[1;32m--> 293\u001b[0m \u001b[38;5;28;01mreturn\u001b[39;00m retry_target(\n\u001b[0;32m    294\u001b[0m     target,\n\u001b[0;32m    295\u001b[0m     \u001b[38;5;28mself\u001b[39m\u001b[38;5;241m.\u001b[39m_predicate,\n\u001b[0;32m    296\u001b[0m     sleep_generator,\n\u001b[0;32m    297\u001b[0m     timeout\u001b[38;5;241m=\u001b[39m\u001b[38;5;28mself\u001b[39m\u001b[38;5;241m.\u001b[39m_timeout,\n\u001b[0;32m    298\u001b[0m     on_error\u001b[38;5;241m=\u001b[39mon_error,\n\u001b[0;32m    299\u001b[0m )\n",
      "File \u001b[1;32mC:\\ProgramData\\anaconda3\\Lib\\site-packages\\google\\api_core\\retry\\retry_unary.py:153\u001b[0m, in \u001b[0;36mretry_target\u001b[1;34m(target, predicate, sleep_generator, timeout, on_error, exception_factory, **kwargs)\u001b[0m\n\u001b[0;32m    149\u001b[0m \u001b[38;5;66;03m# pylint: disable=broad-except\u001b[39;00m\n\u001b[0;32m    150\u001b[0m \u001b[38;5;66;03m# This function explicitly must deal with broad exceptions.\u001b[39;00m\n\u001b[0;32m    151\u001b[0m \u001b[38;5;28;01mexcept\u001b[39;00m \u001b[38;5;167;01mException\u001b[39;00m \u001b[38;5;28;01mas\u001b[39;00m exc:\n\u001b[0;32m    152\u001b[0m     \u001b[38;5;66;03m# defer to shared logic for handling errors\u001b[39;00m\n\u001b[1;32m--> 153\u001b[0m     _retry_error_helper(\n\u001b[0;32m    154\u001b[0m         exc,\n\u001b[0;32m    155\u001b[0m         deadline,\n\u001b[0;32m    156\u001b[0m         sleep,\n\u001b[0;32m    157\u001b[0m         error_list,\n\u001b[0;32m    158\u001b[0m         predicate,\n\u001b[0;32m    159\u001b[0m         on_error,\n\u001b[0;32m    160\u001b[0m         exception_factory,\n\u001b[0;32m    161\u001b[0m         timeout,\n\u001b[0;32m    162\u001b[0m     )\n\u001b[0;32m    163\u001b[0m     \u001b[38;5;66;03m# if exception not raised, sleep before next attempt\u001b[39;00m\n\u001b[0;32m    164\u001b[0m     time\u001b[38;5;241m.\u001b[39msleep(sleep)\n",
      "File \u001b[1;32mC:\\ProgramData\\anaconda3\\Lib\\site-packages\\google\\api_core\\retry\\retry_base.py:221\u001b[0m, in \u001b[0;36m_retry_error_helper\u001b[1;34m(exc, deadline, next_sleep, error_list, predicate_fn, on_error_fn, exc_factory_fn, original_timeout)\u001b[0m\n\u001b[0;32m    215\u001b[0m \u001b[38;5;28;01mif\u001b[39;00m deadline \u001b[38;5;129;01mis\u001b[39;00m \u001b[38;5;129;01mnot\u001b[39;00m \u001b[38;5;28;01mNone\u001b[39;00m \u001b[38;5;129;01mand\u001b[39;00m time\u001b[38;5;241m.\u001b[39mmonotonic() \u001b[38;5;241m+\u001b[39m next_sleep \u001b[38;5;241m>\u001b[39m deadline:\n\u001b[0;32m    216\u001b[0m     final_exc, source_exc \u001b[38;5;241m=\u001b[39m exc_factory_fn(\n\u001b[0;32m    217\u001b[0m         error_list,\n\u001b[0;32m    218\u001b[0m         RetryFailureReason\u001b[38;5;241m.\u001b[39mTIMEOUT,\n\u001b[0;32m    219\u001b[0m         original_timeout,\n\u001b[0;32m    220\u001b[0m     )\n\u001b[1;32m--> 221\u001b[0m     \u001b[38;5;28;01mraise\u001b[39;00m final_exc \u001b[38;5;28;01mfrom\u001b[39;00m \u001b[38;5;21;01msource_exc\u001b[39;00m\n\u001b[0;32m    222\u001b[0m _LOGGER\u001b[38;5;241m.\u001b[39mdebug(\n\u001b[0;32m    223\u001b[0m     \u001b[38;5;124m\"\u001b[39m\u001b[38;5;124mRetrying due to \u001b[39m\u001b[38;5;132;01m{}\u001b[39;00m\u001b[38;5;124m, sleeping \u001b[39m\u001b[38;5;132;01m{:.1f}\u001b[39;00m\u001b[38;5;124ms ...\u001b[39m\u001b[38;5;124m\"\u001b[39m\u001b[38;5;241m.\u001b[39mformat(error_list[\u001b[38;5;241m-\u001b[39m\u001b[38;5;241m1\u001b[39m], next_sleep)\n\u001b[0;32m    224\u001b[0m )\n",
      "\u001b[1;31mRetryError\u001b[0m: Timeout of 600.0s exceeded, last exception: 503 failed to connect to all addresses; last error: UNKNOWN: ipv4:142.250.66.74:443: socket is null"
     ]
    }
   ],
   "source": [
    "query = \"\"\"\n",
    "SELECT * \n",
    "FROM `bigquery-public-data.imdb.title_basics`\n",
    "LIMIT 100\n",
    "\"\"\"\n",
    "\n",
    "# Execute query and return results as a Pandas DataFrame\n",
    "df = client.query(query).to_dataframe()\n",
    "# Display DataFrame\n",
    "print(df.head())"
   ]
  },
  {
   "cell_type": "code",
   "execution_count": null,
   "id": "d4977d49-ba03-4cdd-b028-2587adb99d65",
   "metadata": {},
   "outputs": [],
   "source": []
  },
  {
   "cell_type": "code",
   "execution_count": null,
   "id": "d1b7b20d-3711-41ec-b4b5-37b590f2eb72",
   "metadata": {},
   "outputs": [],
   "source": []
  }
 ],
 "metadata": {
  "kernelspec": {
   "display_name": "Python [conda env:base] *",
   "language": "python",
   "name": "conda-base-py"
  },
  "language_info": {
   "codemirror_mode": {
    "name": "ipython",
    "version": 3
   },
   "file_extension": ".py",
   "mimetype": "text/x-python",
   "name": "python",
   "nbconvert_exporter": "python",
   "pygments_lexer": "ipython3",
   "version": "3.12.3"
  }
 },
 "nbformat": 4,
 "nbformat_minor": 5
}
